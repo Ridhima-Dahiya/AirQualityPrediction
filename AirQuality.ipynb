{
  "nbformat": 4,
  "nbformat_minor": 0,
  "metadata": {
    "colab": {
      "provenance": [],
      "include_colab_link": true
    },
    "kernelspec": {
      "name": "python3",
      "display_name": "Python 3"
    }
  },
  "cells": [
    {
      "cell_type": "markdown",
      "metadata": {
        "id": "view-in-github",
        "colab_type": "text"
      },
      "source": [
        "<a href=\"https://colab.research.google.com/github/Ridhima-Dahiya/AirQualityPrediction/blob/main/AirQuality.ipynb\" target=\"_parent\"><img src=\"https://colab.research.google.com/assets/colab-badge.svg\" alt=\"Open In Colab\"/></a>"
      ]
    },
    {
      "cell_type": "code",
      "metadata": {
        "id": "SY_8h3-sO4kl"
      },
      "source": [
        "#Import packages\n",
        "import pandas as pd\n",
        "import numpy as np\n",
        "import matplotlib.pyplot as plt\n",
        "%matplotlib inline\n",
        "from matplotlib.pylab import rcParams\n",
        "import seaborn as sns\n",
        "rcParams['figure.figsize']=10,8\n",
        "from sklearn.preprocessing import StandardScaler         #import normalisation package\n",
        "from sklearn.model_selection import train_test_split      #import train test split\n",
        "from sklearn.linear_model import LinearRegression,BayesianRidge,ARDRegression\n",
        "from sklearn.metrics import mean_squared_error,mean_absolute_error,r2_score #import mean squared error and mean absolute error\n",
        "from sklearn.tree import DecisionTreeRegressor         #Decision tree regression model\n",
        "from sklearn.model_selection import cross_val_score    #import cross validation score package\n",
        "from sklearn.model_selection import GridSearchCV        #IMPORT GRID SEARCH CV\n",
        "from sklearn import tree                                  #impoRT TREE\n",
        "from sklearn.ensemble import AdaBoostRegressor            # IMPORT ADABOOST\n",
        "from sklearn import ensemble\n",
        "from sklearn.neural_network import MLPRegressor"
      ],
      "execution_count": null,
      "outputs": []
    },
    {
      "cell_type": "markdown",
      "metadata": {
        "id": "StnUx4S4BHT_"
      },
      "source": [
        "# load file"
      ]
    },
    {
      "cell_type": "code",
      "metadata": {
        "id": "_lc5uWA7PA7C",
        "colab": {
          "resources": {
            "http://localhost:8080/nbextensions/google.colab/files.js": {
              "data": "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",
              "ok": true,
              "headers": [
                [
                  "content-type",
                  "application/javascript"
                ]
              ],
              "status": 200,
              "status_text": ""
            }
          },
          "base_uri": "https://localhost:8080/",
          "height": 72
        },
        "outputId": "d3462155-8637-4434-fff3-351ce3b2ba50"
      },
      "source": [
        "from google.colab import files\n",
        "uplaod=files.upload()"
      ],
      "execution_count": null,
      "outputs": [
        {
          "output_type": "display_data",
          "data": {
            "text/html": [
              "\n",
              "     <input type=\"file\" id=\"files-72f0ce26-335c-45f9-8c4b-4f99cecdf376\" name=\"files[]\" multiple disabled\n",
              "        style=\"border:none\" />\n",
              "     <output id=\"result-72f0ce26-335c-45f9-8c4b-4f99cecdf376\">\n",
              "      Upload widget is only available when the cell has been executed in the\n",
              "      current browser session. Please rerun this cell to enable.\n",
              "      </output>\n",
              "      <script src=\"/nbextensions/google.colab/files.js\"></script> "
            ],
            "text/plain": [
              "<IPython.core.display.HTML object>"
            ]
          },
          "metadata": {
            "tags": []
          }
        },
        {
          "output_type": "stream",
          "text": [
            "Saving NEW1.csv to NEW1.csv\n"
          ],
          "name": "stdout"
        }
      ]
    },
    {
      "cell_type": "markdown",
      "metadata": {
        "id": "c7BXWWyUvlj3"
      },
      "source": [
        "## change filename"
      ]
    },
    {
      "cell_type": "code",
      "metadata": {
        "id": "9Xyp1xvrPHHb"
      },
      "source": [
        "#dataset = pd.read_csv('PREVo3.csv',date_parser=True)\n",
        "df_air=pd.read_csv('NEW1.csv',date_parser=True)\n",
        "#df_air.dtypes\n",
        "#df_air.shape\n",
        "#df_air.describe()"
      ],
      "execution_count": null,
      "outputs": []
    },
    {
      "cell_type": "code",
      "metadata": {
        "id": "FrxTjiJ1Z84R",
        "colab": {
          "base_uri": "https://localhost:8080/",
          "height": 316
        },
        "outputId": "fa3add68-3028-4441-9a2a-f142c8fc8552"
      },
      "source": [
        "df_air['Date']=pd.to_datetime(df_air.date, dayfirst= True)   #Format date column\n",
        "df_air.columns\n",
        "df_air.dtypes"
      ],
      "execution_count": null,
      "outputs": [
        {
          "output_type": "error",
          "ename": "AttributeError",
          "evalue": "ignored",
          "traceback": [
            "\u001b[0;31m---------------------------------------------------------------------------\u001b[0m",
            "\u001b[0;31mAttributeError\u001b[0m                            Traceback (most recent call last)",
            "\u001b[0;32m<ipython-input-12-a94eabb89785>\u001b[0m in \u001b[0;36m<module>\u001b[0;34m()\u001b[0m\n\u001b[0;32m----> 1\u001b[0;31m \u001b[0mdf_air\u001b[0m\u001b[0;34m[\u001b[0m\u001b[0;34m'Date'\u001b[0m\u001b[0;34m]\u001b[0m\u001b[0;34m=\u001b[0m\u001b[0mpd\u001b[0m\u001b[0;34m.\u001b[0m\u001b[0mto_datetime\u001b[0m\u001b[0;34m(\u001b[0m\u001b[0mdf_air\u001b[0m\u001b[0;34m.\u001b[0m\u001b[0mdate\u001b[0m\u001b[0;34m,\u001b[0m \u001b[0mdayfirst\u001b[0m\u001b[0;34m=\u001b[0m \u001b[0;32mTrue\u001b[0m\u001b[0;34m)\u001b[0m   \u001b[0;31m#Format date column\u001b[0m\u001b[0;34m\u001b[0m\u001b[0;34m\u001b[0m\u001b[0m\n\u001b[0m\u001b[1;32m      2\u001b[0m \u001b[0mdf_air\u001b[0m\u001b[0;34m.\u001b[0m\u001b[0mcolumns\u001b[0m\u001b[0;34m\u001b[0m\u001b[0;34m\u001b[0m\u001b[0m\n\u001b[1;32m      3\u001b[0m \u001b[0mdf_air\u001b[0m\u001b[0;34m.\u001b[0m\u001b[0mdtypes\u001b[0m\u001b[0;34m\u001b[0m\u001b[0;34m\u001b[0m\u001b[0m\n",
            "\u001b[0;32m/usr/local/lib/python3.6/dist-packages/pandas/core/generic.py\u001b[0m in \u001b[0;36m__getattr__\u001b[0;34m(self, name)\u001b[0m\n\u001b[1;32m   5272\u001b[0m             \u001b[0;32mif\u001b[0m \u001b[0mself\u001b[0m\u001b[0;34m.\u001b[0m\u001b[0m_info_axis\u001b[0m\u001b[0;34m.\u001b[0m\u001b[0m_can_hold_identifiers_and_holds_name\u001b[0m\u001b[0;34m(\u001b[0m\u001b[0mname\u001b[0m\u001b[0;34m)\u001b[0m\u001b[0;34m:\u001b[0m\u001b[0;34m\u001b[0m\u001b[0;34m\u001b[0m\u001b[0m\n\u001b[1;32m   5273\u001b[0m                 \u001b[0;32mreturn\u001b[0m \u001b[0mself\u001b[0m\u001b[0;34m[\u001b[0m\u001b[0mname\u001b[0m\u001b[0;34m]\u001b[0m\u001b[0;34m\u001b[0m\u001b[0;34m\u001b[0m\u001b[0m\n\u001b[0;32m-> 5274\u001b[0;31m             \u001b[0;32mreturn\u001b[0m \u001b[0mobject\u001b[0m\u001b[0;34m.\u001b[0m\u001b[0m__getattribute__\u001b[0m\u001b[0;34m(\u001b[0m\u001b[0mself\u001b[0m\u001b[0;34m,\u001b[0m \u001b[0mname\u001b[0m\u001b[0;34m)\u001b[0m\u001b[0;34m\u001b[0m\u001b[0;34m\u001b[0m\u001b[0m\n\u001b[0m\u001b[1;32m   5275\u001b[0m \u001b[0;34m\u001b[0m\u001b[0m\n\u001b[1;32m   5276\u001b[0m     \u001b[0;32mdef\u001b[0m \u001b[0m__setattr__\u001b[0m\u001b[0;34m(\u001b[0m\u001b[0mself\u001b[0m\u001b[0;34m,\u001b[0m \u001b[0mname\u001b[0m\u001b[0;34m:\u001b[0m \u001b[0mstr\u001b[0m\u001b[0;34m,\u001b[0m \u001b[0mvalue\u001b[0m\u001b[0;34m)\u001b[0m \u001b[0;34m->\u001b[0m \u001b[0;32mNone\u001b[0m\u001b[0;34m:\u001b[0m\u001b[0;34m\u001b[0m\u001b[0;34m\u001b[0m\u001b[0m\n",
            "\u001b[0;31mAttributeError\u001b[0m: 'DataFrame' object has no attribute 'date'"
          ]
        }
      ]
    },
    {
      "cell_type": "code",
      "metadata": {
        "id": "jVsxf_SqZuiX",
        "colab": {
          "base_uri": "https://localhost:8080/",
          "height": 333
        },
        "outputId": "221b328d-b017-4a41-cd29-3e71f731d07d"
      },
      "source": [
        "df_air.set_index('date',inplace=True)\n",
        "df_air.head()\n",
        "#df_air['MONTH']=df_air.index.month     #Create month column (Run once)\n",
        "#df_air.reset_index(inplace=True)\n"
      ],
      "execution_count": null,
      "outputs": [
        {
          "output_type": "error",
          "ename": "KeyError",
          "evalue": "ignored",
          "traceback": [
            "\u001b[0;31m---------------------------------------------------------------------------\u001b[0m",
            "\u001b[0;31mKeyError\u001b[0m                                  Traceback (most recent call last)",
            "\u001b[0;32m<ipython-input-7-294330ae9d33>\u001b[0m in \u001b[0;36m<module>\u001b[0;34m()\u001b[0m\n\u001b[0;32m----> 1\u001b[0;31m \u001b[0mdf_air\u001b[0m\u001b[0;34m.\u001b[0m\u001b[0mset_index\u001b[0m\u001b[0;34m(\u001b[0m\u001b[0;34m'date'\u001b[0m\u001b[0;34m,\u001b[0m\u001b[0minplace\u001b[0m\u001b[0;34m=\u001b[0m\u001b[0;32mTrue\u001b[0m\u001b[0;34m)\u001b[0m\u001b[0;34m\u001b[0m\u001b[0;34m\u001b[0m\u001b[0m\n\u001b[0m\u001b[1;32m      2\u001b[0m \u001b[0mdf_air\u001b[0m\u001b[0;34m.\u001b[0m\u001b[0mhead\u001b[0m\u001b[0;34m(\u001b[0m\u001b[0;34m)\u001b[0m\u001b[0;34m\u001b[0m\u001b[0;34m\u001b[0m\u001b[0m\n\u001b[1;32m      3\u001b[0m \u001b[0;31m#df_air['MONTH']=df_air.index.month     #Create month column (Run once)\u001b[0m\u001b[0;34m\u001b[0m\u001b[0;34m\u001b[0m\u001b[0;34m\u001b[0m\u001b[0m\n\u001b[1;32m      4\u001b[0m \u001b[0;31m#df_air.reset_index(inplace=True)\u001b[0m\u001b[0;34m\u001b[0m\u001b[0;34m\u001b[0m\u001b[0;34m\u001b[0m\u001b[0m\n",
            "\u001b[0;32m/usr/local/lib/python3.6/dist-packages/pandas/core/frame.py\u001b[0m in \u001b[0;36mset_index\u001b[0;34m(self, keys, drop, append, inplace, verify_integrity)\u001b[0m\n\u001b[1;32m   4301\u001b[0m \u001b[0;34m\u001b[0m\u001b[0m\n\u001b[1;32m   4302\u001b[0m         \u001b[0;32mif\u001b[0m \u001b[0mmissing\u001b[0m\u001b[0;34m:\u001b[0m\u001b[0;34m\u001b[0m\u001b[0;34m\u001b[0m\u001b[0m\n\u001b[0;32m-> 4303\u001b[0;31m             \u001b[0;32mraise\u001b[0m \u001b[0mKeyError\u001b[0m\u001b[0;34m(\u001b[0m\u001b[0;34mf\"None of {missing} are in the columns\"\u001b[0m\u001b[0;34m)\u001b[0m\u001b[0;34m\u001b[0m\u001b[0;34m\u001b[0m\u001b[0m\n\u001b[0m\u001b[1;32m   4304\u001b[0m \u001b[0;34m\u001b[0m\u001b[0m\n\u001b[1;32m   4305\u001b[0m         \u001b[0;32mif\u001b[0m \u001b[0minplace\u001b[0m\u001b[0;34m:\u001b[0m\u001b[0;34m\u001b[0m\u001b[0;34m\u001b[0m\u001b[0m\n",
            "\u001b[0;31mKeyError\u001b[0m: \"None of ['date'] are in the columns\""
          ]
        }
      ]
    },
    {
      "cell_type": "code",
      "metadata": {
        "id": "LrrqKWNObySR",
        "colab": {
          "base_uri": "https://localhost:8080/",
          "height": 603
        },
        "outputId": "279c234d-27b8-425a-c807-56d36e7e621e"
      },
      "source": [
        "#Use heatmap to see corelation between variables\n",
        "sns.heatmap(df_air.corr(),annot=True,cmap='viridis')\n",
        "plt.title('Heatmap of co-relation between variables',fontsize=16)\n",
        "plt.show()"
      ],
      "execution_count": null,
      "outputs": [
        {
          "output_type": "display_data",
          "data": {
            "image/png": "[encoded data removed]",
            "text/plain": [
              "<Figure size 720x576 with 2 Axes>"
            ]
          },
          "metadata": {
            "tags": [],
            "needs_background": "light"
          }
        }
      ]
    },
    {
      "cell_type": "code",
      "metadata": {
        "id": "JvYeFSzhg7ot"
      },
      "source": [],
      "execution_count": null,
      "outputs": []
    },
    {
      "cell_type": "markdown",
      "metadata": {
        "id": "qwK-hmPkwMMH"
      },
      "source": [
        "# change name"
      ]
    },
    {
      "cell_type": "code",
      "metadata": {
        "id": "lOf3HAtKcTk_"
      },
      "source": [
        "#plot all X-features against output variable pmi\n",
        "col_=df_air.columns.tolist()[:]\n",
        "for i in df_air.columns.tolist()[:]:\n",
        "    sns.lmplot(x=i,y='o3i',data=df_air,markers='.')"
      ],
      "execution_count": null,
      "outputs": []
    },
    {
      "cell_type": "markdown",
      "metadata": {
        "id": "EnlnZrWRrfzx"
      },
      "source": [
        "# **CHANGE VALUE HERE**"
      ]
    },
    {
      "cell_type": "code",
      "metadata": {
        "id": "ABDn6ODKeVHP"
      },
      "source": [
        "X=df_air[col_].drop('pmi',1)     #X-input features\n",
        "y=df_air['pmi']                 #y-input features\n",
        "ss=StandardScaler()              #initiatilise\n",
        "X_std=ss.fit_transform(X)     #apply stardardisation\n",
        "#split the data into train and test with test size and 30% and train size as 70%\n",
        "X_train, X_test, y_train, y_test=train_test_split(X_std,y,test_size=0.3, random_state=0,shuffle= False)\n",
        "print('Training data size:',X_train.shape)\n",
        "print('Test data size:',X_test.shape)"
      ],
      "execution_count": null,
      "outputs": []
    },
    {
      "cell_type": "markdown",
      "metadata": {
        "id": "CcXSmqAdrCG0"
      },
      "source": [
        "## **LINEAR REGRESSION MODEL**"
      ]
    },
    {
      "cell_type": "code",
      "metadata": {
        "id": "0GWy8-fegNbr"
      },
      "source": [
        "lr=LinearRegression()\n",
        "lr_model=lr.fit(X_train,y_train)          #fit the linear model on train data\n",
        "y_pred=lr_model.predict(X_test)                      #predict using the model\n",
        "rmse=np.sqrt(mean_squared_error(y_test,y_pred))      #calculate rmse\n",
        "print('Baseline RMSE of LINEAR REGRESSION  model:',rmse)\n",
        "mse=mean_squared_error(y_test,y_pred)\n",
        "mae=mean_absolute_error(y_test,y_pred)\n",
        "print(mse)\n",
        "print(mae)\n",
        "r2=r2_score(y_test,y_pred)\n",
        "print(r2)\n"
      ],
      "execution_count": null,
      "outputs": []
    },
    {
      "cell_type": "code",
      "metadata": {
        "id": "FHmbqawog9fx"
      },
      "source": [
        "import matplotlib.pyplot as plt\n",
        "\n",
        "plt.plot(y_test)\n",
        "plt.plot(y_pred)\n",
        "plt.xlabel('False positive rate')\n",
        "plt.ylabel('True positive rate')\n",
        "plt.title('Roc Curve 1')\n",
        "plt.legend(loc='best')\n",
        "plt.show()"
      ],
      "execution_count": null,
      "outputs": []
    },
    {
      "cell_type": "markdown",
      "metadata": {
        "id": "WrUHm0Ls2_As"
      },
      "source": [
        "# **BAYESIAN RIDGE**"
      ]
    },
    {
      "cell_type": "code",
      "metadata": {
        "id": "U8OMhuDa0sx6"
      },
      "source": [
        "lr_2=BayesianRidge()\n",
        "lr_2_model=lr_2.fit(X_train,y_train)          #fit the linear model on train data\n",
        "y_pred_lr=lr_2_model.predict(X_test)                      #predict using the model\n",
        "rmse=np.sqrt(mean_squared_error(y_test,y_pred_lr))      #calculate rmse\n",
        "print('Baseline RMSE of LINEAR REGRESSION  model:',rmse)\n",
        "mse=mean_squared_error(y_test,y_pred_lr)\n",
        "mae=mean_absolute_error(y_test,y_pred_lr)\n",
        "print(mse)\n",
        "print(mae)\n",
        "r2=r2_score(y_test,y_pred_lr)\n",
        "print(r2)"
      ],
      "execution_count": null,
      "outputs": []
    },
    {
      "cell_type": "markdown",
      "metadata": {
        "id": "JBfUgBoq3DI-"
      },
      "source": [
        "# **ARD REGRESSION**"
      ]
    },
    {
      "cell_type": "code",
      "metadata": {
        "id": "UTKukNhF1-QT"
      },
      "source": [
        "lr_3=ARDRegression()\n",
        "lr_3_model=lr_3.fit(X_train,y_train)          #fit the linear model on train data\n",
        "y_pred_lr_3=lr_3_model.predict(X_test)                      #predict using the model\n",
        "rmse=np.sqrt(mean_squared_error(y_test,y_pred_lr_3))      #calculate rmse\n",
        "print('Baseline RMSE of LINEAR REGRESSION  model:',rmse)\n",
        "mse=mean_squared_error(y_test,y_pred_lr_3)\n",
        "mae=mean_absolute_error(y_test,y_pred_lr_3)\n",
        "print(mse)\n",
        "print(mae)\n",
        "r2=r2_score(y_test,y_pred_lr_3)\n",
        "print(r2)"
      ],
      "execution_count": null,
      "outputs": []
    },
    {
      "cell_type": "markdown",
      "metadata": {
        "id": "WgWR9Z0euMsG"
      },
      "source": [
        "# **decision tree grid search cv**"
      ]
    },
    {
      "cell_type": "code",
      "metadata": {
        "id": "fFJ-q_1QGyNC"
      },
      "source": [
        "dt_one_reg=DecisionTreeRegressor()\n",
        "dt_model=dt_one_reg.fit(X_train,y_train)  #define rf parameters\n",
        "df_params={'max_depth':[2,10],'max_leaf_nodes':[70,90]}\n",
        "#define rf grid search\n",
        "dt_grid=GridSearchCV(dt_one_reg,df_params,cv=10)\n",
        "dt_model_two=dt_grid.fit(X_train,y_train)\n",
        "y_pred_dt_two=dt_model_two.predict(X_test)\n",
        "#Calculate RMSE\n",
        "print('RMSE using dt grid search method',np.sqrt(mean_squared_error(y_test,y_pred_dt_two)))\n",
        "mse=mean_squared_error(y_test,y_pred_dt_two)\n",
        "mae=mean_absolute_error(y_test,y_pred_dt_two)\n",
        "print(mse)\n",
        "print(mae)\n",
        "r2=r2_score(y_test,y_pred_dt_two)\n",
        "print(r2)\n"
      ],
      "execution_count": null,
      "outputs": []
    },
    {
      "cell_type": "markdown",
      "metadata": {
        "id": "pBStBpcw9Oi1"
      },
      "source": [
        "bagging **regressor**"
      ]
    },
    {
      "cell_type": "code",
      "metadata": {
        "id": "pEAzAMQo3zBb"
      },
      "source": [
        "#regr_2 = AdaBoostRegressor(DecisionTreeRegressor(max_depth=5),\n",
        "                         # n_estimators=200)\n",
        "params_a = {'n_estimators': 100}\n",
        "reg_a_adb = ensemble.BaggingRegressor(**params_a)\n",
        "reg_a_adb.fit(X_train, y_train)\n",
        "y_a_adb = reg_a_adb.predict(X_test)\n",
        "print('RMSE using ada boost method',np.sqrt(mean_squared_error(y_test,y_a_adb)))\n",
        "mse=mean_squared_error(y_test,y_a_adb)\n",
        "mae=mean_absolute_error(y_test,y_a_adb)\n",
        "\n",
        "print(mse)\n",
        "print(mae)\n",
        "r2=r2_score(y_test,y_a_adb)\n",
        "print(r2)"
      ],
      "execution_count": null,
      "outputs": []
    },
    {
      "cell_type": "markdown",
      "metadata": {
        "id": "XEMSRowV-MPn"
      },
      "source": [
        "**extra trees regressor**"
      ]
    },
    {
      "cell_type": "code",
      "metadata": {
        "id": "eNMV0Ksk9SYk"
      },
      "source": [
        "params_b = {'n_estimators': 100,'max_depth':5}\n",
        "reg_b_adb = ensemble.ExtraTreesRegressor(**params_b)\n",
        "reg_b_adb.fit(X_train, y_train)\n",
        "y_b_adb = reg_b_adb.predict(X_test)\n",
        "print('RMSE using ada boost method',np.sqrt(mean_squared_error(y_test,y_b_adb)))\n",
        "mse=mean_squared_error(y_test,y_b_adb)\n",
        "mae=mean_absolute_error(y_test,y_b_adb)\n",
        "\n",
        "print(mse)\n",
        "print(mae)\n",
        "r2=r2_score(y_test,y_b_adb)\n",
        "print(r2)"
      ],
      "execution_count": null,
      "outputs": []
    },
    {
      "cell_type": "markdown",
      "metadata": {
        "id": "y0HLHGqQ3p8R"
      },
      "source": [
        "# **adaboost**"
      ]
    },
    {
      "cell_type": "code",
      "metadata": {
        "id": "11TQnPA81FSm"
      },
      "source": [
        "#regr_2 = AdaBoostRegressor(DecisionTreeRegressor(max_depth=5),\n",
        "                         # n_estimators=200)\n",
        "params_1 = {'n_estimators': 100,\n",
        "          'learning_rate': 0.01,}\n",
        "reg_2_adb = AdaBoostRegressor(**params_1)\n",
        "reg_2_adb.fit(X_train, y_train)\n",
        "y_2_adb = reg_2_adb.predict(X_test)\n",
        "print('RMSE using ada boost method',np.sqrt(mean_squared_error(y_test,y_2_adb)))\n",
        "mse=mean_squared_error(y_test,y_2_adb)\n",
        "mae=mean_absolute_error(y_test,y_2_adb)\n",
        "\n",
        "print(mse)\n",
        "print(mae)\n",
        "r2=r2_score(y_test,y_2_adb)\n",
        "print(r2)"
      ],
      "execution_count": null,
      "outputs": []
    },
    {
      "cell_type": "markdown",
      "metadata": {
        "id": "NlmtBBc0rTnW"
      },
      "source": [
        "# **gradient** boosting"
      ]
    },
    {
      "cell_type": "code",
      "metadata": {
        "id": "Rj18ra26p_xB"
      },
      "source": [
        "params = {'n_estimators': 500,\n",
        "          'max_depth': 5,\n",
        "          'min_samples_split': 5,\n",
        "          'learning_rate': 0.01,\n",
        "          'loss': 'lad'}\n",
        "reg = ensemble.GradientBoostingRegressor(**params)\n",
        "reg.fit(X_train, y_train)\n",
        "print('RMSE using ada boost method',np.sqrt(mean_squared_error(y_test,reg.predict(X_test))))\n",
        "mse=mean_squared_error(y_test,reg.predict(X_test))\n",
        "mae=mean_absolute_error(y_test,reg.predict(X_test))\n",
        "print(mse)\n",
        "print(mae)\n",
        "r2=r2_score(y_test,reg.predict(X_test))\n",
        "print(r2)"
      ],
      "execution_count": null,
      "outputs": []
    },
    {
      "cell_type": "markdown",
      "metadata": {
        "id": "ryvVHd5PoryR"
      },
      "source": [
        "# MLP"
      ]
    },
    {
      "cell_type": "code",
      "metadata": {
        "id": "ytj4d-p3lkym"
      },
      "source": [
        "reg_m = MLPRegressor()\n",
        "reg_m.fit(X_train, y_train)\n",
        "mlp_params= [{'hidden_layer_sizes':[50,100,200,500]}]        #define rf parameters\n",
        "mlp_grid=GridSearchCV(reg_m,mlp_params,cv=10)                                           #define rf grid search\n",
        "mlp_model_two=mlp_grid.fit(X_train,y_train)\n",
        "y_pred_mlp=mlp_model_two.predict(X_test)\n",
        "print('RMSE using ada boost method',np.sqrt(mean_squared_error(y_test,y_pred_mlp)))\n",
        "mse=mean_squared_error(y_test,y_pred_mlp)\n",
        "mae=mean_absolute_error(y_test,y_pred_mlp)\n",
        "print(mlp_model_two.best_params_)\n",
        "print(mse)\n",
        "print(mae)\n",
        "r2=r2_score(y_test,y_pred_mlp)\n",
        "print(r2)"
      ],
      "execution_count": null,
      "outputs": []
    },
    {
      "cell_type": "markdown",
      "metadata": {
        "id": "ceRwG5lqupGN"
      },
      "source": [
        "# **random forest grid search cv**"
      ]
    },
    {
      "cell_type": "code",
      "metadata": {
        "id": "7YgP_k9Aiq5o"
      },
      "source": [
        "from sklearn.ensemble import RandomForestRegressor           #import random forest regressor\n",
        "rf_reg=RandomForestRegressor()\n",
        "rf_model=rf_reg.fit(X_train,y_train)\n",
        "rf_params={'n_estimators':[200,300],'max_depth':[2,4,5],'max_leaf_nodes':[70,90]}         #define rf parameters\n",
        "rf_grid=GridSearchCV(rf_reg,rf_params,cv=10)                                           #define rf grid search\n",
        "rf_model_two=rf_grid.fit(X_train,y_train)                           #fit the model wtih all grid parameters\n",
        "y_pred_rf_two=rf_model_two.predict(X_test)                             #predict\n",
        "#Calculate RMSE\n",
        "print('RMSE using RF grid search method',np.sqrt(mean_squared_error(y_test,y_pred_rf_two)))\n",
        "mse=mean_squared_error(y_test,y_pred_rf_two)\n",
        "mae=mean_absolute_error(y_test,y_pred_rf_two)\n",
        "print(mse)\n",
        "print(mae)\n",
        "r2=r2_score(y_test,y_pred_rf_two)\n",
        "print(r2)"
      ],
      "execution_count": null,
      "outputs": []
    },
    {
      "cell_type": "markdown",
      "metadata": {
        "id": "yysk9M_po33P"
      },
      "source": [
        "# svr grid search cv"
      ]
    },
    {
      "cell_type": "code",
      "metadata": {
        "id": "wkOW4Xn2cuhG"
      },
      "source": [
        "from sklearn.svm import SVR           #import support vector regressor\n",
        "sv_reg=SVR()\n",
        "sv_model=sv_reg.fit(X_train,y_train)\n",
        "params={'kernel':['rbf','linear','poly','sigmoid'],'C':[0.1,0.5,10],'gamma':['auto']}         #define rf parameters\n",
        "sv_grid=GridSearchCV(sv_reg,params,cv=10)                                           #define rf grid search\n",
        "sv_model_two=sv_grid.fit(X_train,y_train)                           #fit the model wtih all grid parameters\n",
        "y_pred_sv_two=sv_model_two.predict(X_test)                             #predict\n",
        "print('rmse,mse,mae')\n",
        "print(np.sqrt(mean_squared_error(y_test,y_pred_sv_two)))\n",
        "mse=mean_squared_error(y_test,y_pred_sv_two)\n",
        "mae=mean_absolute_error(y_test,y_pred_sv_two)\n",
        "print(mse)\n",
        "print(mae)\n",
        "r2=r2_score(y_test,y_pred_sv_two)\n",
        "print(r2)"
      ],
      "execution_count": null,
      "outputs": []
    },
    {
      "cell_type": "code",
      "metadata": {
        "id": "LcctQ1DSpko3"
      },
      "source": [
        "# plot for residual error\n",
        "\n",
        "## setting plot style\n",
        "plt.style.use('fivethirtyeight')\n",
        "\n",
        "## plotting residual errors in training data\n",
        "plt.scatter(reg.predict(X_train), y_train,\n",
        "            color = \"green\", s = 10, label = 'Train data')\n",
        "\n",
        "## plotting residual errors in test data\n",
        "plt.scatter(reg.predict(X_test),  y_test,\n",
        "            color = \"blue\", s = 10, label = 'Test data')\n",
        "\n",
        "## plotting line for zero residual error\n",
        "plt.hlines(y = 0, xmin = 0, xmax = 50, linewidth = 2)\n",
        "\n",
        "## plotting legend\n",
        "plt.legend(loc = 'upper right')\n",
        "\n",
        "## plot title\n",
        "plt.title(\"Residual errors\")\n",
        "\n",
        "## function to show plot\n",
        "plt.show()"
      ],
      "execution_count": null,
      "outputs": []
    },
    {
      "cell_type": "code",
      "metadata": {
        "id": "asykPuaYLssz"
      },
      "source": [
        "# Visualising the SVR results\n",
        "plt.scatter(X_train, y_train, color = 'red')\n",
        "plt.plot(y_test, regressor.predict(X), color = 'blue')\n",
        "plt.xlabel('Position level')\n",
        "plt.ylabel('Salary')\n",
        "plt.show()"
      ],
      "execution_count": null,
      "outputs": []
    },
    {
      "cell_type": "code",
      "metadata": {
        "id": "aFEP1unUPRDm"
      },
      "source": [
        "x_axis=x.year\n",
        "y_axis=x.Actual\n",
        "y1_axis=x.Predicted\n",
        "plt.plot(x_axis,y_axis)\n",
        "plt.plot(x_axis,y1_axis)\n",
        "plt.title(\"Actual vs Predicted\",fontsize=20)\n",
        "plt.legend([\"actual \",\"predicted\"])\n",
        "plt.xlabel(\"YEAR\",fontsize=20)\n",
        "plt.ylabel(\"AQI\",fontsize=20)\n",
        "plt.tick_params(labelsize=20)\n",
        "plt.show()"
      ],
      "execution_count": null,
      "outputs": []
    },
    {
      "cell_type": "code",
      "metadata": {
        "id": "1B1A_Wa-VH3Y"
      },
      "source": [
        "import matplotlib.pyplot as plt\n",
        "from mlxtend.plotting import plot_linear_regression\n",
        "import numpy as np\n",
        "\n",
        "X = y_pred\n",
        "\n",
        "y = y_test\n",
        "\n",
        "intercept, slope, corr_coeff = plot_linear_regression(X, y)\n",
        "plt.show()"
      ],
      "execution_count": null,
      "outputs": []
    },
    {
      "cell_type": "code",
      "metadata": {
        "id": "vTG0nlgcXR8N"
      },
      "source": [
        "plt.y_pred"
      ],
      "execution_count": null,
      "outputs": []
    }
  ]
}